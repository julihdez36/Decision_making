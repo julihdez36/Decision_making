{
 "cells": [
  {
   "cell_type": "code",
   "execution_count": 1,
   "id": "7feefbf2",
   "metadata": {},
   "outputs": [],
   "source": [
    "# Librerías básicas\n",
    "import pandas as pd\n",
    "import numpy as np\n",
    "\n",
    "import seaborn as sns\n",
    "\n",
    "import warnings\n",
    "warnings.filterwarnings(action='ignore')"
   ]
  },
  {
   "cell_type": "code",
   "execution_count": 2,
   "id": "da6568a1",
   "metadata": {},
   "outputs": [
    {
     "name": "stdout",
     "output_type": "stream",
     "text": [
      "<class 'pandas.core.frame.DataFrame'>\n",
      "RangeIndex: 251617 entries, 0 to 251616\n",
      "Data columns (total 33 columns):\n",
      " #   Column                    Non-Null Count   Dtype  \n",
      "---  ------                    --------------   -----  \n",
      " 0   index                     251617 non-null  int64  \n",
      " 1   default                   251617 non-null  int64  \n",
      " 2   contract_type             251617 non-null  object \n",
      " 3   gender                    251617 non-null  object \n",
      " 4   flag_vehicle              251617 non-null  object \n",
      " 5   flag_properties           251617 non-null  object \n",
      " 6   num_children              251617 non-null  int64  \n",
      " 7   total_income              251617 non-null  float64\n",
      " 8   loan_amount               251617 non-null  float64\n",
      " 9   income_type               251617 non-null  object \n",
      " 10  marital_status            251617 non-null  object \n",
      " 11  age                       251617 non-null  float64\n",
      " 12  work_age                  251617 non-null  float64\n",
      " 13  flag_cellphone            251617 non-null  int64  \n",
      " 14  flag_work_phone           251617 non-null  int64  \n",
      " 15  flag_work_company         251617 non-null  int64  \n",
      " 16  flag_cellphone_answer     251617 non-null  int64  \n",
      " 17  flag_homephone            251617 non-null  int64  \n",
      " 18  flag_email                251617 non-null  int64  \n",
      " 19  type_organisation         251617 non-null  object \n",
      " 20  external_score_1          251617 non-null  float64\n",
      " 21  external_score_2          251617 non-null  float64\n",
      " 22  age_mobilephone_days      251617 non-null  float64\n",
      " 23  num_petic_bureau_day      251617 non-null  float64\n",
      " 24  num_petic_bureau_week     251617 non-null  float64\n",
      " 25  num_petic_bureau_month    251617 non-null  float64\n",
      " 26  num_petic_bureau_quarter  251617 non-null  float64\n",
      " 27  num_petic_bureau_year     251617 non-null  float64\n",
      " 28  block_month               251617 non-null  int64  \n",
      " 29  year                      251617 non-null  int64  \n",
      " 30  month                     251617 non-null  int64  \n",
      " 31  Office                    251617 non-null  int64  \n",
      " 32  Employee                  251617 non-null  int64  \n",
      "dtypes: float64(12), int64(14), object(7)\n",
      "memory usage: 63.3+ MB\n"
     ]
    },
    {
     "data": {
      "text/html": [
       "<div>\n",
       "<style scoped>\n",
       "    .dataframe tbody tr th:only-of-type {\n",
       "        vertical-align: middle;\n",
       "    }\n",
       "\n",
       "    .dataframe tbody tr th {\n",
       "        vertical-align: top;\n",
       "    }\n",
       "\n",
       "    .dataframe thead th {\n",
       "        text-align: right;\n",
       "    }\n",
       "</style>\n",
       "<table border=\"1\" class=\"dataframe\">\n",
       "  <thead>\n",
       "    <tr style=\"text-align: right;\">\n",
       "      <th></th>\n",
       "      <th>index</th>\n",
       "      <th>default</th>\n",
       "      <th>contract_type</th>\n",
       "      <th>gender</th>\n",
       "      <th>flag_vehicle</th>\n",
       "      <th>flag_properties</th>\n",
       "      <th>num_children</th>\n",
       "      <th>total_income</th>\n",
       "      <th>loan_amount</th>\n",
       "      <th>income_type</th>\n",
       "      <th>...</th>\n",
       "      <th>num_petic_bureau_day</th>\n",
       "      <th>num_petic_bureau_week</th>\n",
       "      <th>num_petic_bureau_month</th>\n",
       "      <th>num_petic_bureau_quarter</th>\n",
       "      <th>num_petic_bureau_year</th>\n",
       "      <th>block_month</th>\n",
       "      <th>year</th>\n",
       "      <th>month</th>\n",
       "      <th>Office</th>\n",
       "      <th>Employee</th>\n",
       "    </tr>\n",
       "  </thead>\n",
       "  <tbody>\n",
       "    <tr>\n",
       "      <th>0</th>\n",
       "      <td>0</td>\n",
       "      <td>1</td>\n",
       "      <td>personal loan</td>\n",
       "      <td>M</td>\n",
       "      <td>N</td>\n",
       "      <td>Y</td>\n",
       "      <td>0</td>\n",
       "      <td>394338.0</td>\n",
       "      <td>1207961.0</td>\n",
       "      <td>shareholder</td>\n",
       "      <td>...</td>\n",
       "      <td>0.0</td>\n",
       "      <td>0.0</td>\n",
       "      <td>2.0</td>\n",
       "      <td>0.0</td>\n",
       "      <td>4.0</td>\n",
       "      <td>10</td>\n",
       "      <td>2017</td>\n",
       "      <td>10</td>\n",
       "      <td>110143</td>\n",
       "      <td>38</td>\n",
       "    </tr>\n",
       "    <tr>\n",
       "      <th>1</th>\n",
       "      <td>1</td>\n",
       "      <td>1</td>\n",
       "      <td>personal loan</td>\n",
       "      <td>F</td>\n",
       "      <td>N</td>\n",
       "      <td>Y</td>\n",
       "      <td>0</td>\n",
       "      <td>322796.0</td>\n",
       "      <td>409690.0</td>\n",
       "      <td>salary</td>\n",
       "      <td>...</td>\n",
       "      <td>0.0</td>\n",
       "      <td>0.0</td>\n",
       "      <td>0.0</td>\n",
       "      <td>0.0</td>\n",
       "      <td>1.0</td>\n",
       "      <td>4</td>\n",
       "      <td>2017</td>\n",
       "      <td>4</td>\n",
       "      <td>110143</td>\n",
       "      <td>38</td>\n",
       "    </tr>\n",
       "    <tr>\n",
       "      <th>2</th>\n",
       "      <td>2</td>\n",
       "      <td>1</td>\n",
       "      <td>personal loan</td>\n",
       "      <td>M</td>\n",
       "      <td>N</td>\n",
       "      <td>Y</td>\n",
       "      <td>1</td>\n",
       "      <td>241201.0</td>\n",
       "      <td>858450.0</td>\n",
       "      <td>salary</td>\n",
       "      <td>...</td>\n",
       "      <td>0.0</td>\n",
       "      <td>0.0</td>\n",
       "      <td>0.0</td>\n",
       "      <td>0.0</td>\n",
       "      <td>1.0</td>\n",
       "      <td>10</td>\n",
       "      <td>2017</td>\n",
       "      <td>10</td>\n",
       "      <td>110143</td>\n",
       "      <td>38</td>\n",
       "    </tr>\n",
       "    <tr>\n",
       "      <th>3</th>\n",
       "      <td>3</td>\n",
       "      <td>1</td>\n",
       "      <td>personal loan</td>\n",
       "      <td>M</td>\n",
       "      <td>N</td>\n",
       "      <td>N</td>\n",
       "      <td>1</td>\n",
       "      <td>264255.0</td>\n",
       "      <td>114679.0</td>\n",
       "      <td>salary</td>\n",
       "      <td>...</td>\n",
       "      <td>0.0</td>\n",
       "      <td>0.0</td>\n",
       "      <td>0.0</td>\n",
       "      <td>0.0</td>\n",
       "      <td>1.0</td>\n",
       "      <td>2</td>\n",
       "      <td>2017</td>\n",
       "      <td>2</td>\n",
       "      <td>110143</td>\n",
       "      <td>35</td>\n",
       "    </tr>\n",
       "    <tr>\n",
       "      <th>4</th>\n",
       "      <td>4</td>\n",
       "      <td>1</td>\n",
       "      <td>personal loan</td>\n",
       "      <td>F</td>\n",
       "      <td>N</td>\n",
       "      <td>Y</td>\n",
       "      <td>1</td>\n",
       "      <td>166682.0</td>\n",
       "      <td>402669.0</td>\n",
       "      <td>salary</td>\n",
       "      <td>...</td>\n",
       "      <td>0.0</td>\n",
       "      <td>0.0</td>\n",
       "      <td>0.0</td>\n",
       "      <td>0.0</td>\n",
       "      <td>1.0</td>\n",
       "      <td>12</td>\n",
       "      <td>2017</td>\n",
       "      <td>12</td>\n",
       "      <td>110143</td>\n",
       "      <td>38</td>\n",
       "    </tr>\n",
       "  </tbody>\n",
       "</table>\n",
       "<p>5 rows × 33 columns</p>\n",
       "</div>"
      ],
      "text/plain": [
       "   index  default  contract_type gender flag_vehicle flag_properties  \\\n",
       "0      0        1  personal loan      M            N               Y   \n",
       "1      1        1  personal loan      F            N               Y   \n",
       "2      2        1  personal loan      M            N               Y   \n",
       "3      3        1  personal loan      M            N               N   \n",
       "4      4        1  personal loan      F            N               Y   \n",
       "\n",
       "   num_children  total_income  loan_amount  income_type  ...  \\\n",
       "0             0      394338.0    1207961.0  shareholder  ...   \n",
       "1             0      322796.0     409690.0       salary  ...   \n",
       "2             1      241201.0     858450.0       salary  ...   \n",
       "3             1      264255.0     114679.0       salary  ...   \n",
       "4             1      166682.0     402669.0       salary  ...   \n",
       "\n",
       "  num_petic_bureau_day  num_petic_bureau_week  num_petic_bureau_month  \\\n",
       "0                  0.0                    0.0                     2.0   \n",
       "1                  0.0                    0.0                     0.0   \n",
       "2                  0.0                    0.0                     0.0   \n",
       "3                  0.0                    0.0                     0.0   \n",
       "4                  0.0                    0.0                     0.0   \n",
       "\n",
       "   num_petic_bureau_quarter  num_petic_bureau_year  block_month  year  month  \\\n",
       "0                       0.0                    4.0           10  2017     10   \n",
       "1                       0.0                    1.0            4  2017      4   \n",
       "2                       0.0                    1.0           10  2017     10   \n",
       "3                       0.0                    1.0            2  2017      2   \n",
       "4                       0.0                    1.0           12  2017     12   \n",
       "\n",
       "   Office Employee  \n",
       "0  110143       38  \n",
       "1  110143       38  \n",
       "2  110143       38  \n",
       "3  110143       35  \n",
       "4  110143       38  \n",
       "\n",
       "[5 rows x 33 columns]"
      ]
     },
     "execution_count": 2,
     "metadata": {},
     "output_type": "execute_result"
    }
   ],
   "source": [
    "# Carga de datos\n",
    "df = pd.read_csv(\"solicitud_creditos_info.csv\")\n",
    "df.info()\n",
    "df.head()"
   ]
  },
  {
   "cell_type": "code",
   "execution_count": 3,
   "id": "50b69ffb",
   "metadata": {},
   "outputs": [],
   "source": [
    "# Libreria para machine learning https://scikit-learn.org/stable/\n",
    "import sklearn"
   ]
  },
  {
   "cell_type": "markdown",
   "id": "39fbcbd1",
   "metadata": {},
   "source": [
    "## Dividir los datos entre los datos de entrenamiento y los datos de validación"
   ]
  },
  {
   "cell_type": "markdown",
   "id": "70488ffa",
   "metadata": {},
   "source": [
    "Se observa que la variable edad y la tenencia de la línea de teléfono móvil toman valores negativos y se encuentra en días y no en años. Por esto se convertíra a años"
   ]
  },
  {
   "cell_type": "code",
   "execution_count": 4,
   "id": "1bbf96ea",
   "metadata": {},
   "outputs": [
    {
     "data": {
      "text/plain": [
       "count    251617.000000\n",
       "mean         44.097712\n",
       "std          12.207968\n",
       "min          17.040383\n",
       "25%          34.151951\n",
       "50%          43.192334\n",
       "75%          53.664613\n",
       "max          83.704312\n",
       "Name: age, dtype: float64"
      ]
     },
     "execution_count": 4,
     "metadata": {},
     "output_type": "execute_result"
    }
   ],
   "source": [
    "df['age'] = (df['age'] / 365.25) * -1\n",
    "df['age'].describe()"
   ]
  },
  {
   "cell_type": "code",
   "execution_count": 5,
   "id": "9c72c4e5",
   "metadata": {},
   "outputs": [
    {
     "name": "stdout",
     "output_type": "stream",
     "text": [
      "(201293, 12) (50324, 12) (201293,) (50324,)\n"
     ]
    }
   ],
   "source": [
    "from sklearn.model_selection import train_test_split # Importar la función para dividir los datos\n",
    "\n",
    "# Defino las variables de interés tanto el objetivo como las variables independientes\n",
    "objetivo = 'default'\n",
    "caracteristicas = ['contract_type', 'total_income', 'loan_amount', 'marital_status', 'external_score_1', 'age']\n",
    "\n",
    "X = df[caracteristicas]\n",
    "y = df[objetivo]\n",
    "\n",
    "# Dumies\n",
    "X = pd.get_dummies(X)\n",
    "\n",
    "# División de los datos\n",
    "X_train, X_val, y_train, y_val = train_test_split(X, y, test_size=0.2, random_state=1345)\n",
    "\n",
    "# Filas y columnas de cada tabla creada\n",
    "print(X_train.shape, X_val.shape, y_train.shape, y_val.shape)"
   ]
  },
  {
   "cell_type": "markdown",
   "id": "da05b845",
   "metadata": {},
   "source": [
    "## Estandarización de los datos\n",
    " \n",
    "La estandarización hace que todas las columnas se encuentren en la misma escala, esto es conveniente para diferentes modelos como los lineales y los basados en distancias (KNN)"
   ]
  },
  {
   "cell_type": "code",
   "execution_count": 6,
   "id": "11c09cd3",
   "metadata": {},
   "outputs": [],
   "source": [
    "from sklearn.preprocessing import StandardScaler\n",
    "\n",
    "scaler = StandardScaler()\n",
    "scaler.fit(X_train)\n",
    "\n",
    "X_train_s = scaler.transform(X_train)\n",
    "X_val_s = scaler.transform(X_val)"
   ]
  },
  {
   "cell_type": "markdown",
   "id": "ba9d1bb5",
   "metadata": {},
   "source": [
    "## Entrenamiento y ajuste\n",
    "\n",
    "\n",
    "### Regresión logística\n"
   ]
  },
  {
   "cell_type": "code",
   "execution_count": 7,
   "id": "3bda5fcb",
   "metadata": {},
   "outputs": [
    {
     "data": {
      "text/plain": [
       "LogisticRegression()"
      ]
     },
     "execution_count": 7,
     "metadata": {},
     "output_type": "execute_result"
    }
   ],
   "source": [
    "from sklearn.linear_model import LogisticRegression # Importar la función\n",
    "\n",
    "lr = LogisticRegression() # Asignar la función\n",
    "lr.fit(X_train_s, y_train) # Entrenar los datos"
   ]
  },
  {
   "cell_type": "code",
   "execution_count": 8,
   "id": "8903dbdc",
   "metadata": {},
   "outputs": [],
   "source": [
    "# Predicciones en los datos de entrenamiento y validación\n",
    "y_train_pred = lr.predict(X_train_s) # Predicciones en datos de entrenamiento\n",
    "y_val_pred = lr.predict(X_val_s) # Predicciones en nuevos datos"
   ]
  },
  {
   "cell_type": "code",
   "execution_count": 9,
   "id": "bd91221d",
   "metadata": {},
   "outputs": [
    {
     "name": "stdout",
     "output_type": "stream",
     "text": [
      "F1 Score: 0.21832245186509755\n"
     ]
    },
    {
     "data": {
      "text/plain": [
       "<AxesSubplot:>"
      ]
     },
     "execution_count": 9,
     "metadata": {},
     "output_type": "execute_result"
    },
    {
     "data": {
      "image/png": "[encoded data removed]",
      "text/plain": [
       "<Figure size 432x288 with 2 Axes>"
      ]
     },
     "metadata": {
      "needs_background": "light"
     },
     "output_type": "display_data"
    }
   ],
   "source": [
    "# Validación del modelo en datos de entrenamiento\n",
    "from sklearn.metrics import confusion_matrix, f1_score\n",
    "print('F1 Score:', f1_score(y_train, y_train_pred))\n",
    "sns.heatmap(confusion_matrix(y_train, y_train_pred, labels=[0, 1]), annot=True, fmt='g')"
   ]
  },
  {
   "cell_type": "code",
   "execution_count": 10,
   "id": "e8504245",
   "metadata": {},
   "outputs": [
    {
     "name": "stdout",
     "output_type": "stream",
     "text": [
      "F1 Score: 0.22158322056833563\n"
     ]
    },
    {
     "data": {
      "text/plain": [
       "<AxesSubplot:>"
      ]
     },
     "execution_count": 10,
     "metadata": {},
     "output_type": "execute_result"
    },
    {
     "data": {
      "image/png": "[encoded data removed]",
      "text/plain": [
       "<Figure size 432x288 with 2 Axes>"
      ]
     },
     "metadata": {
      "needs_background": "light"
     },
     "output_type": "display_data"
    }
   ],
   "source": [
    "# Validación del modelo en datos de validación\n",
    "print('F1 Score:', f1_score(y_val, y_val_pred))\n",
    "sns.heatmap(confusion_matrix(y_val, y_val_pred, labels=[0, 1]), annot=True, fmt='g')"
   ]
  },
  {
   "cell_type": "markdown",
   "id": "39cca9a0",
   "metadata": {},
   "source": [
    "### Arbol de decisión (Decision Tree)"
   ]
  },
  {
   "cell_type": "code",
   "execution_count": 11,
   "id": "323453db",
   "metadata": {},
   "outputs": [
    {
     "data": {
      "text/plain": [
       "DecisionTreeClassifier()"
      ]
     },
     "execution_count": 11,
     "metadata": {},
     "output_type": "execute_result"
    }
   ],
   "source": [
    "from sklearn.tree import DecisionTreeClassifier\n",
    "\n",
    "dt = DecisionTreeClassifier()\n",
    "dt.fit(X_train_s, y_train) # Entrenar los datos"
   ]
  },
  {
   "cell_type": "code",
   "execution_count": 12,
   "id": "24b38b7c",
   "metadata": {},
   "outputs": [],
   "source": [
    "# Predicciones en los datos de entrenamiento y validación \n",
    "# El método de KNN toma mucho más tiempo en realizar las predicciones\n",
    "y_train_pred_dt = dt.predict(X_train_s) # Predicciones en datos de entrenamiento\n",
    "y_val_pred_dt = dt.predict(X_val_s) # Predicciones en nuevos datos"
   ]
  },
  {
   "cell_type": "code",
   "execution_count": 13,
   "id": "0d537a29",
   "metadata": {},
   "outputs": [
    {
     "name": "stdout",
     "output_type": "stream",
     "text": [
      "F1 Score: 1.0\n"
     ]
    },
    {
     "data": {
      "text/plain": [
       "<AxesSubplot:>"
      ]
     },
     "execution_count": 13,
     "metadata": {},
     "output_type": "execute_result"
    },
    {
     "data": {
      "image/png": "[encoded data removed]",
      "text/plain": [
       "<Figure size 432x288 with 2 Axes>"
      ]
     },
     "metadata": {
      "needs_background": "light"
     },
     "output_type": "display_data"
    }
   ],
   "source": [
    "# Validación del modelo en datos de entrenamiento\n",
    "print('F1 Score:', f1_score(y_train, y_train_pred_dt))\n",
    "sns.heatmap(confusion_matrix(y_train, y_train_pred_dt, labels=[0, 1]), annot=True, fmt='g')"
   ]
  },
  {
   "cell_type": "code",
   "execution_count": 14,
   "id": "ffae3c2c",
   "metadata": {},
   "outputs": [
    {
     "name": "stdout",
     "output_type": "stream",
     "text": [
      "F1 Score: 0.31407232704402516\n"
     ]
    },
    {
     "data": {
      "text/plain": [
       "<AxesSubplot:>"
      ]
     },
     "execution_count": 14,
     "metadata": {},
     "output_type": "execute_result"
    },
    {
     "data": {
      "image/png": "[encoded data removed]",
      "text/plain": [
       "<Figure size 432x288 with 2 Axes>"
      ]
     },
     "metadata": {
      "needs_background": "light"
     },
     "output_type": "display_data"
    }
   ],
   "source": [
    "# Validación del modelo en datos de validación\n",
    "print('F1 Score:', f1_score(y_val, y_val_pred_dt))\n",
    "sns.heatmap(confusion_matrix(y_val, y_val_pred_dt, labels=[0, 1]), annot=True, fmt='g')"
   ]
  },
  {
   "cell_type": "markdown",
   "id": "061a9c28",
   "metadata": {},
   "source": [
    "El árbol de decisión realiza predicciones perfectas en los datos de entrenamiento, es decir, en aquellos previamente observados. Sin embargo, aun cuando es mejor que la regresión logística, en los datos de validación es resultado no es muy bueno. Esto se denomina sobre ajuste del modelo: buenos resultados en datos de entrenamiento, pero resultados muy inferiores en los datos de validación o prueba."
   ]
  },
  {
   "cell_type": "markdown",
   "id": "81290d46",
   "metadata": {},
   "source": [
    "### Bosque aleatorio (Radom Forest)\n"
   ]
  },
  {
   "cell_type": "code",
   "execution_count": 15,
   "id": "2d2d99ac",
   "metadata": {},
   "outputs": [
    {
     "data": {
      "text/plain": [
       "RandomForestClassifier()"
      ]
     },
     "execution_count": 15,
     "metadata": {},
     "output_type": "execute_result"
    }
   ],
   "source": [
    "from sklearn.ensemble import RandomForestClassifier\n",
    "\n",
    "rf = RandomForestClassifier()\n",
    "rf.fit(X_train_s, y_train) # Entrenar los datos"
   ]
  },
  {
   "cell_type": "code",
   "execution_count": 16,
   "id": "aeb255b7",
   "metadata": {},
   "outputs": [],
   "source": [
    "# Predicciones en los datos de entrenamiento y validación \n",
    "# El método de KNN toma mucho más tiempo en realizar las predicciones\n",
    "y_train_pred_rf = rf.predict(X_train_s) # Predicciones en datos de entrenamiento\n",
    "y_val_pred_rf = rf.predict(X_val_s) # Predicciones en nuevos datos"
   ]
  },
  {
   "cell_type": "code",
   "execution_count": 17,
   "id": "4172c1ba",
   "metadata": {},
   "outputs": [
    {
     "name": "stdout",
     "output_type": "stream",
     "text": [
      "F1 Score: 0.9997975196152873\n"
     ]
    },
    {
     "data": {
      "text/plain": [
       "<AxesSubplot:>"
      ]
     },
     "execution_count": 17,
     "metadata": {},
     "output_type": "execute_result"
    },
    {
     "data": {
      "image/png": "[encoded data removed]",
      "text/plain": [
       "<Figure size 432x288 with 2 Axes>"
      ]
     },
     "metadata": {
      "needs_background": "light"
     },
     "output_type": "display_data"
    }
   ],
   "source": [
    "# Validación del modelo en datos de entrenamiento\n",
    "print('F1 Score:', f1_score(y_train, y_train_pred_rf))\n",
    "sns.heatmap(confusion_matrix(y_train, y_train_pred_rf, labels=[0, 1]), annot=True, fmt='g')"
   ]
  },
  {
   "cell_type": "code",
   "execution_count": 18,
   "id": "a9bde86a",
   "metadata": {},
   "outputs": [
    {
     "name": "stdout",
     "output_type": "stream",
     "text": [
      "F1 Score: 0.3397532350285886\n"
     ]
    },
    {
     "data": {
      "text/plain": [
       "<AxesSubplot:>"
      ]
     },
     "execution_count": 18,
     "metadata": {},
     "output_type": "execute_result"
    },
    {
     "data": {
      "image/png": "[encoded data removed]",
      "text/plain": [
       "<Figure size 432x288 with 2 Axes>"
      ]
     },
     "metadata": {
      "needs_background": "light"
     },
     "output_type": "display_data"
    }
   ],
   "source": [
    "# Validación del modelo en datos de validación\n",
    "print('F1 Score:', f1_score(y_val, y_val_pred_rf))\n",
    "sns.heatmap(confusion_matrix(y_val, y_val_pred_rf, labels=[0, 1]), annot=True, fmt='g')"
   ]
  },
  {
   "cell_type": "markdown",
   "id": "6b497177",
   "metadata": {},
   "source": [
    "Random forest en los datos de validación (los no observados previamente) es mejor que los algortimos de ML probados anteriormente."
   ]
  },
  {
   "cell_type": "markdown",
   "id": "e74762ec",
   "metadata": {},
   "source": [
    "## Búsqueda de hiperparámetros del Random Forest\n",
    "\n",
    "El ajuste a los hiperparámetros de los modelos de machine learning permite hacer mejores predicciones en datos no observados. Usualmente, la forma de determinar los mejores parámetros es a través del entrenamiento y evaluación con cada uno de los posibles parámetros. Esto se hace mediante una búsqueda de grilla (grid search) en donde el científico de datos indica los parámetros y los valores sobre los cuales buscar para que de todos los modelos ejecutados se indique cuáles son los parámetros que realizan las mejores predicciones en datos no observados.\n",
    "\n",
    "En este caso se realizará una pequeña búsqueda de hiperparámetros en un modelo de Random Forest."
   ]
  },
  {
   "cell_type": "code",
   "execution_count": 19,
   "id": "5c9e07d6",
   "metadata": {},
   "outputs": [],
   "source": [
    "from sklearn.model_selection import GridSearchCV\n",
    "\n",
    "grid_values = {'max_depth':[5,7,9], # Profundidad de los árboles que componen el bosque\n",
    "               'class_weight':['balanced', None]} # Rebalancea los datos entrenando el modelo el datos con 50% inpago y 50% pago\n",
    "\n",
    "algoritmo = RandomForestClassifier()\n",
    "\n",
    "busqueda_de_grilla = GridSearchCV(estimator=algoritmo, # Algoritmo de búsqueda\n",
    "                                  param_grid=grid_values, # El elemento que contiene los parámetros sobre los cuales buscar\n",
    "                                  scoring='f1', # La métrica de ajuste de las predicciones\n",
    "                                  verbose=3) # Si debe mostrar en pantalla el resumen"
   ]
  },
  {
   "cell_type": "code",
   "execution_count": 20,
   "id": "9c381b03",
   "metadata": {},
   "outputs": [
    {
     "name": "stdout",
     "output_type": "stream",
     "text": [
      "Fitting 5 folds for each of 6 candidates, totalling 30 fits\n",
      "[CV 1/5] END class_weight=balanced, max_depth=5;, score=0.382 total time=  13.6s\n",
      "[CV 2/5] END class_weight=balanced, max_depth=5;, score=0.387 total time=  13.4s\n",
      "[CV 3/5] END class_weight=balanced, max_depth=5;, score=0.373 total time=  13.3s\n",
      "[CV 4/5] END class_weight=balanced, max_depth=5;, score=0.376 total time=  14.0s\n",
      "[CV 5/5] END class_weight=balanced, max_depth=5;, score=0.366 total time=  13.7s\n",
      "[CV 1/5] END class_weight=balanced, max_depth=7;, score=0.387 total time=  17.5s\n",
      "[CV 2/5] END class_weight=balanced, max_depth=7;, score=0.391 total time=  17.2s\n",
      "[CV 3/5] END class_weight=balanced, max_depth=7;, score=0.387 total time=  16.9s\n",
      "[CV 4/5] END class_weight=balanced, max_depth=7;, score=0.387 total time=  17.3s\n",
      "[CV 5/5] END class_weight=balanced, max_depth=7;, score=0.381 total time=  17.1s\n",
      "[CV 1/5] END class_weight=balanced, max_depth=9;, score=0.401 total time=  20.6s\n",
      "[CV 2/5] END class_weight=balanced, max_depth=9;, score=0.402 total time=  20.1s\n",
      "[CV 3/5] END class_weight=balanced, max_depth=9;, score=0.394 total time=  20.5s\n",
      "[CV 4/5] END class_weight=balanced, max_depth=9;, score=0.400 total time=  20.3s\n",
      "[CV 5/5] END class_weight=balanced, max_depth=9;, score=0.386 total time=  20.2s\n",
      "[CV 1/5] END ....class_weight=None, max_depth=5;, score=0.146 total time=  13.3s\n",
      "[CV 2/5] END ....class_weight=None, max_depth=5;, score=0.152 total time=  14.2s\n",
      "[CV 3/5] END ....class_weight=None, max_depth=5;, score=0.127 total time=  13.1s\n",
      "[CV 4/5] END ....class_weight=None, max_depth=5;, score=0.129 total time=  13.2s\n",
      "[CV 5/5] END ....class_weight=None, max_depth=5;, score=0.136 total time=  13.8s\n",
      "[CV 1/5] END ....class_weight=None, max_depth=7;, score=0.189 total time=  17.4s\n",
      "[CV 2/5] END ....class_weight=None, max_depth=7;, score=0.197 total time=  16.8s\n",
      "[CV 3/5] END ....class_weight=None, max_depth=7;, score=0.208 total time=  17.9s\n",
      "[CV 4/5] END ....class_weight=None, max_depth=7;, score=0.186 total time=  17.1s\n",
      "[CV 5/5] END ....class_weight=None, max_depth=7;, score=0.185 total time=  17.6s\n",
      "[CV 1/5] END ....class_weight=None, max_depth=9;, score=0.253 total time=  21.1s\n",
      "[CV 2/5] END ....class_weight=None, max_depth=9;, score=0.244 total time=  20.6s\n",
      "[CV 3/5] END ....class_weight=None, max_depth=9;, score=0.262 total time=  20.7s\n",
      "[CV 4/5] END ....class_weight=None, max_depth=9;, score=0.246 total time=  20.7s\n",
      "[CV 5/5] END ....class_weight=None, max_depth=9;, score=0.241 total time=  20.6s\n"
     ]
    },
    {
     "data": {
      "text/plain": [
       "GridSearchCV(estimator=RandomForestClassifier(),\n",
       "             param_grid={'class_weight': ['balanced', None],\n",
       "                         'max_depth': [5, 7, 9]},\n",
       "             scoring='f1', verbose=3)"
      ]
     },
     "execution_count": 20,
     "metadata": {},
     "output_type": "execute_result"
    }
   ],
   "source": [
    "# Busqeuda de mejores hipeparámetros realizando validación cruzada\n",
    "busqueda_de_grilla.fit(X_train_s,y_train)"
   ]
  },
  {
   "cell_type": "code",
   "execution_count": 21,
   "id": "a98eee07",
   "metadata": {},
   "outputs": [
    {
     "data": {
      "text/plain": [
       "RandomForestClassifier(class_weight='balanced', max_depth=9)"
      ]
     },
     "execution_count": 21,
     "metadata": {},
     "output_type": "execute_result"
    }
   ],
   "source": [
    "busqueda_de_grilla.best_estimator_ # Imprime en pantalla los hiperparámetros"
   ]
  },
  {
   "cell_type": "markdown",
   "id": "e239da28",
   "metadata": {},
   "source": [
    "Del ejercicio anterior podemos ver que entre la búsqueda realizada, el Bosque aleatorio que mejor predice los datos no observados es uno con datos balanceados y con árboles cuya profundidad máxima es de 9.\n",
    "\n",
    "Supongamos ahora que llega un cliente con las siguientes características y veamos que predice el modelo sobre si pagará o no el prestamo solicitado."
   ]
  },
  {
   "cell_type": "code",
   "execution_count": 22,
   "id": "dfef5c52",
   "metadata": {},
   "outputs": [
    {
     "name": "stdout",
     "output_type": "stream",
     "text": [
      "F1: 0.3927032622684796\n"
     ]
    }
   ],
   "source": [
    "# Revisión de resultados en datos de validación\n",
    "y_val_pred_rfgs = busqueda_de_grilla.predict(X_val_s)\n",
    "print('F1:', f1_score(y_val, y_val_pred_rfgs))"
   ]
  },
  {
   "cell_type": "code",
   "execution_count": 23,
   "id": "30912132",
   "metadata": {},
   "outputs": [
    {
     "data": {
      "text/html": [
       "<div>\n",
       "<style scoped>\n",
       "    .dataframe tbody tr th:only-of-type {\n",
       "        vertical-align: middle;\n",
       "    }\n",
       "\n",
       "    .dataframe tbody tr th {\n",
       "        vertical-align: top;\n",
       "    }\n",
       "\n",
       "    .dataframe thead th {\n",
       "        text-align: right;\n",
       "    }\n",
       "</style>\n",
       "<table border=\"1\" class=\"dataframe\">\n",
       "  <thead>\n",
       "    <tr style=\"text-align: right;\">\n",
       "      <th></th>\n",
       "      <th>total_income</th>\n",
       "      <th>loan_amount</th>\n",
       "      <th>external_score_1</th>\n",
       "      <th>age</th>\n",
       "      <th>contract_type_credit card</th>\n",
       "      <th>contract_type_personal loan</th>\n",
       "      <th>marital_status_civil partnership</th>\n",
       "      <th>marital_status_divorced</th>\n",
       "      <th>marital_status_married</th>\n",
       "      <th>marital_status_single</th>\n",
       "      <th>marital_status_unspecified</th>\n",
       "      <th>marital_status_widowed</th>\n",
       "    </tr>\n",
       "  </thead>\n",
       "  <tbody>\n",
       "    <tr>\n",
       "      <th>0</th>\n",
       "      <td>100000.0</td>\n",
       "      <td>1000.0</td>\n",
       "      <td>0.92</td>\n",
       "      <td>40.0</td>\n",
       "      <td>1.0</td>\n",
       "      <td>0.0</td>\n",
       "      <td>0.0</td>\n",
       "      <td>0.0</td>\n",
       "      <td>1.0</td>\n",
       "      <td>0.0</td>\n",
       "      <td>0.0</td>\n",
       "      <td>0.0</td>\n",
       "    </tr>\n",
       "  </tbody>\n",
       "</table>\n",
       "</div>"
      ],
      "text/plain": [
       "   total_income  loan_amount  external_score_1   age  \\\n",
       "0      100000.0       1000.0              0.92  40.0   \n",
       "\n",
       "   contract_type_credit card  contract_type_personal loan  \\\n",
       "0                        1.0                          0.0   \n",
       "\n",
       "   marital_status_civil partnership  marital_status_divorced  \\\n",
       "0                               0.0                      0.0   \n",
       "\n",
       "   marital_status_married  marital_status_single  marital_status_unspecified  \\\n",
       "0                     1.0                    0.0                         0.0   \n",
       "\n",
       "   marital_status_widowed  \n",
       "0                     0.0  "
      ]
     },
     "execution_count": 23,
     "metadata": {},
     "output_type": "execute_result"
    }
   ],
   "source": [
    "clienteX = pd.DataFrame(columns = X_train.columns) # Crear un data frame vacio con las columnas de los datos de entramiento\n",
    "clienteX.loc[0] = [100000,1000,0.92,40, 1,0, 0,0,1,0,0,0] # Poblar el data frame\n",
    "clienteX # Ver en pantalla"
   ]
  },
  {
   "cell_type": "code",
   "execution_count": 24,
   "id": "d2d379ad",
   "metadata": {},
   "outputs": [
    {
     "name": "stdout",
     "output_type": "stream",
     "text": [
      "Predicción [0]\n"
     ]
    }
   ],
   "source": [
    "# Se estandarizan los datos de este cliente\n",
    "clienteX_s = scaler.transform(clienteX) # Con base en el objeto de estandarización usado antes\n",
    "print('Predicción', busqueda_de_grilla.predict(clienteX_s))"
   ]
  },
  {
   "cell_type": "markdown",
   "id": "3e11b0a5",
   "metadata": {},
   "source": [
    "0 Indica que pagará (1 impago). De este resultado, la decisión de la organización sería el otorgar el préstamo al solicitante dado que se espera que realice su pago de forma correcta."
   ]
  },
  {
   "cell_type": "markdown",
   "id": "11ba5041",
   "metadata": {},
   "source": [
    "Como medida de validación del modelo se uso el F1. Sin embargo, debe analizarse cuál de las métricas disponibles para validar modelos de clasificación es la más adecuada para el caso de la institución financiera que quiere identificar y evitar los clientes que no pagan sus deudas.\n",
    "\n",
    "***Los estudiantes en su proyectos de la actividad 4 pueden trabajar en desarrollar más este ejemplo o las otras ideas de problemas especificos que les surgan***."
   ]
  },
  {
   "cell_type": "code",
   "execution_count": null,
   "id": "837a8e95",
   "metadata": {},
   "outputs": [],
   "source": []
  }
 ],
 "metadata": {
  "kernelspec": {
   "display_name": "Python 3 (ipykernel)",
   "language": "python",
   "name": "python3"
  },
  "language_info": {
   "codemirror_mode": {
    "name": "ipython",
    "version": 3
   },
   "file_extension": ".py",
   "mimetype": "text/x-python",
   "name": "python",
   "nbconvert_exporter": "python",
   "pygments_lexer": "ipython3",
   "version": "3.8.8"
  }
 },
 "nbformat": 4,
 "nbformat_minor": 5
}
