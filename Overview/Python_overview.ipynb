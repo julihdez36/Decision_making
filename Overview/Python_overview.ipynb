{
 "cells": [
  {
   "cell_type": "code",
   "execution_count": 10,
   "metadata": {},
   "outputs": [
    {
     "name": "stdout",
     "output_type": "stream",
     "text": [
      "El número no es par\n"
     ]
    }
   ],
   "source": [
    "# Estructuras de control de flujo\n",
    "\n",
    "# Condicional if - elif - else\n",
    "\n",
    "x = 3\n",
    "if x%2 == 0:\n",
    "    print('El número es par')\n",
    "else: print('El número no es par')"
   ]
  },
  {
   "cell_type": "code",
   "execution_count": 11,
   "metadata": {},
   "outputs": [
    {
     "name": "stdout",
     "output_type": "stream",
     "text": [
      "El número no es par\n",
      "3.3333333333333335\n"
     ]
    }
   ],
   "source": [
    "# Podemos hacer uso también de un operador ternario\n",
    "\n",
    "# [código si cumple] if [condición] else [código si no cumple]\n",
    "\n",
    "print('El número es par' if x%2 == 0 else 'El número no es par')\n",
    "\n",
    "a = 10\n",
    "b = 3\n",
    "\n",
    "print(a/b if b != 0 else 'La fracción no está definida')"
   ]
  },
  {
   "cell_type": "code",
   "execution_count": 12,
   "metadata": {},
   "outputs": [
    {
     "name": "stdout",
     "output_type": "stream",
     "text": [
      "El riesgo de contraparte es alto. El cliente tiene una calificación crediticia baja.\n"
     ]
    }
   ],
   "source": [
    "# Clasificación crediticia del cliente\n",
    "\n",
    "calificacion_crediticia = int(input(\"Por favor, ingresa la calificación crediticia del cliente (entre 1 y 10): \"))\n",
    "\n",
    "# Evaluar el riesgo de contraparte en préstamos\n",
    "\n",
    "if calificacion_crediticia >= 7:\n",
    "    print(\"El riesgo de contraparte es bajo. El cliente tiene una buena calificación crediticia.\")\n",
    "elif calificacion_crediticia >= 5:\n",
    "    print(\"El riesgo de contraparte es moderado. El cliente tiene una calificación crediticia promedio.\")\n",
    "else:\n",
    "    print(\"El riesgo de contraparte es alto. El cliente tiene una calificación crediticia baja.\")\n"
   ]
  },
  {
   "cell_type": "code",
   "execution_count": 13,
   "metadata": {},
   "outputs": [
    {
     "name": "stdout",
     "output_type": "stream",
     "text": [
      "0\n",
      "1\n",
      "2\n",
      "3\n",
      "4\n"
     ]
    }
   ],
   "source": [
    "#############\n",
    "# Bucles for\n",
    "# Los for requieren de un iterable que define las iteraciones a realizar\n",
    "\n",
    "for i in range(5):\n",
    "    print(i)"
   ]
  },
  {
   "cell_type": "code",
   "execution_count": 14,
   "metadata": {},
   "outputs": [
    {
     "name": "stdout",
     "output_type": "stream",
     "text": [
      "P\n",
      "y\n",
      "t\n",
      "h\n",
      "o\n",
      "n\n"
     ]
    }
   ],
   "source": [
    "# Los iterables son estructuras indexadas (accedido por indices)\n",
    "# En python las tuplas, listas o arrays son iterables\n",
    "\n",
    "text = 'Python'\n",
    "for i in text:\n",
    "    print(i)"
   ]
  },
  {
   "cell_type": "code",
   "execution_count": 15,
   "metadata": {},
   "outputs": [
    {
     "name": "stdout",
     "output_type": "stream",
     "text": [
      "0\n",
      "2\n",
      "4\n",
      "6\n",
      "8\n"
     ]
    }
   ],
   "source": [
    "#Podemos combinar el for con el if\n",
    "# Filtrar los pares de una lista\n",
    "\n",
    "numero = list(range(10))\n",
    "\n",
    "for i in numero:\n",
    "    if i%2 == 0:\n",
    "        print(i)"
   ]
  },
  {
   "cell_type": "code",
   "execution_count": 16,
   "metadata": {},
   "outputs": [
    {
     "name": "stdout",
     "output_type": "stream",
     "text": [
      "0\n",
      "1\n",
      "4\n",
      "9\n",
      "16\n"
     ]
    }
   ],
   "source": [
    "for i in numero:\n",
    "    if i < 5:\n",
    "        print(i**2)"
   ]
  },
  {
   "cell_type": "code",
   "execution_count": 17,
   "metadata": {},
   "outputs": [
    {
     "name": "stdout",
     "output_type": "stream",
     "text": [
      "56\n",
      "34\n",
      "2\n",
      "12\n",
      "4\n",
      "5\n",
      "9\n",
      "4\n",
      "3\n"
     ]
    }
   ],
   "source": [
    "#Podemos anidar for (for anidados)\n",
    "matriz = [[56,34,2],[12,4,5],[9,4,3]]\n",
    "\n",
    "for i in matriz:\n",
    "    for j in i:\n",
    "        print(j)"
   ]
  },
  {
   "cell_type": "code",
   "execution_count": 18,
   "metadata": {},
   "outputs": [
    {
     "name": "stdout",
     "output_type": "stream",
     "text": [
      "n\n",
      "o\n",
      "h\n",
      "t\n",
      "y\n",
      "P\n"
     ]
    }
   ],
   "source": [
    "# Podemos iterar al revés usando [::-1]\n",
    "text = 'Python'\n",
    "for i in text[::-1]:\n",
    "    print(i)"
   ]
  },
  {
   "cell_type": "code",
   "execution_count": 19,
   "metadata": {},
   "outputs": [
    {
     "name": "stdout",
     "output_type": "stream",
     "text": [
      "['P', 'y', 't', 'h', 'o', 'n']\n"
     ]
    }
   ],
   "source": [
    "# Al igual que el operador terniario, podemos simplificar el for con las\n",
    "# comprehensions lists\n",
    "\n",
    "print([i for i in text])"
   ]
  },
  {
   "cell_type": "code",
   "execution_count": 20,
   "metadata": {},
   "outputs": [
    {
     "name": "stdout",
     "output_type": "stream",
     "text": [
      "[0, 1, 2, 3, 4, 5, 6, 7, 8, 9]\n",
      "[0, 1, 4, 9, 16, 25, 36, 49, 64, 81]\n",
      "['0', '1', '2', '3', '4', '5', '6', '7', '8', '9']\n"
     ]
    }
   ],
   "source": [
    "# Puedo elevar todas al cuadrado\n",
    "print(numero)\n",
    "cuadrado = [i**2 for i in numero]\n",
    "print(cuadrado)\n",
    "#O cambiar el tipado\n",
    "texto = [str(i) for i in numero]\n",
    "print(texto)"
   ]
  },
  {
   "cell_type": "code",
   "execution_count": 21,
   "metadata": {},
   "outputs": [
    {
     "name": "stdout",
     "output_type": "stream",
     "text": [
      "4950\n"
     ]
    }
   ],
   "source": [
    "# Cómo podría hacer la suma del 1 al 100\n",
    "result = 0\n",
    "\n",
    "for i in range(100):\n",
    "    result += i\n",
    "print(result)\n",
    "\n",
    "# Lo mas facil es sum(range(100))"
   ]
  },
  {
   "cell_type": "code",
   "execution_count": 22,
   "metadata": {},
   "outputs": [
    {
     "name": "stdout",
     "output_type": "stream",
     "text": [
      "4\n",
      "3\n",
      "2\n",
      "1\n",
      "0\n"
     ]
    }
   ],
   "source": [
    "#############\n",
    "# Bucles while\n",
    "\n",
    "#Mantiene un bucle mientras se cumpla una condición\n",
    "\n",
    "x = 5\n",
    "\n",
    "while x > 0:\n",
    "    x -=1\n",
    "    print(x)"
   ]
  },
  {
   "cell_type": "code",
   "execution_count": 23,
   "metadata": {},
   "outputs": [
    {
     "name": "stdout",
     "output_type": "stream",
     "text": [
      "1\n",
      "2\n",
      "3\n",
      "4\n",
      "5\n",
      "El bucle ha finalizado\n"
     ]
    }
   ],
   "source": [
    "# En Python podemos combinar el while con else\n",
    "\n",
    "y = 0 \n",
    "\n",
    "while y < 5:\n",
    "    y += 1\n",
    "    print(y)\n",
    "else: print('El bucle ha finalizado')"
   ]
  },
  {
   "cell_type": "code",
   "execution_count": 24,
   "metadata": {},
   "outputs": [
    {
     "name": "stdout",
     "output_type": "stream",
     "text": [
      "0 0 0\n",
      "0 1 1\n",
      "0 2 2\n",
      "1 0 0\n",
      "1 1 1\n",
      "1 2 2\n",
      "2 0 0\n",
      "2 1 1\n",
      "2 2 2\n"
     ]
    }
   ],
   "source": [
    "# Bucles anidados\n",
    "\n",
    "# Veamos cómo podemos combinar 3 números\n",
    "\n",
    "i, j, k = 0, 0, 0\n",
    "\n",
    "while i < 3:\n",
    "    while j < 3:\n",
    "        while k < 3:\n",
    "            print(i,j,k)\n",
    "            k+=1\n",
    "            j+=1\n",
    "        k=0\n",
    "    i += 1\n",
    "    j = 0"
   ]
  },
  {
   "cell_type": "code",
   "execution_count": 25,
   "metadata": {},
   "outputs": [
    {
     "name": "stdout",
     "output_type": "stream",
     "text": [
      "1\n",
      "1\n",
      "2\n",
      "3\n",
      "5\n",
      "8\n",
      "13\n",
      "21\n"
     ]
    }
   ],
   "source": [
    "# Sucesión de Fibonacci\n",
    "\n",
    "a,b = 0,1\n",
    "\n",
    "while b < 25:\n",
    "    print(b)\n",
    "    a,b = b, a+b"
   ]
  },
  {
   "cell_type": "code",
   "execution_count": 26,
   "metadata": {},
   "outputs": [
    {
     "data": {
      "text/plain": [
       "4"
      ]
     },
     "execution_count": 26,
     "metadata": {},
     "output_type": "execute_result"
    }
   ],
   "source": [
    "# Funciones\n",
    "def f(x):\n",
    "    return 2*x\n",
    "\n",
    "f(2)"
   ]
  },
  {
   "cell_type": "code",
   "execution_count": 27,
   "metadata": {},
   "outputs": [
    {
     "data": {
      "text/plain": [
       "[25, 4, 9, 16]"
      ]
     },
     "execution_count": 27,
     "metadata": {},
     "output_type": "execute_result"
    }
   ],
   "source": [
    "def f(x):\n",
    "    result = []\n",
    "    for i in x:\n",
    "        result.append(i**2)\n",
    "    return result\n",
    "\n",
    "f([5,2,3,4])\n",
    "#Estas funciones se pueden vectorizar, pero eso requerirá del uso de librerías como numpy"
   ]
  },
  {
   "cell_type": "code",
   "execution_count": 28,
   "metadata": {},
   "outputs": [
    {
     "data": {
      "text/plain": [
       "6.0"
      ]
     },
     "execution_count": 28,
     "metadata": {},
     "output_type": "execute_result"
    }
   ],
   "source": [
    "'''\n",
    "Principios de las funciones:\n",
    "Reusabilidad: en lugar de copiar muchas veces un código, vuelvelo una función\n",
    "Modularidad: en lugar de escribir lineas largas, es mejor crear modulos o funciones que lo agrupen\n",
    "'''\n",
    "def media(x):\n",
    "    return sum(x) / len(x)\n",
    "\n",
    "media([4,5,6,7,8])    "
   ]
  },
  {
   "cell_type": "code",
   "execution_count": 29,
   "metadata": {},
   "outputs": [
    {
     "data": {
      "text/plain": [
       "(8, 6)"
      ]
     },
     "execution_count": 29,
     "metadata": {},
     "output_type": "execute_result"
    }
   ],
   "source": [
    "# Podemos dejar argumentos por defecto\n",
    "def suma(a,b,c=2):\n",
    "    return a+b+c\n",
    "\n",
    "suma(2,4), suma(2,4,0)"
   ]
  },
  {
   "cell_type": "code",
   "execution_count": 30,
   "metadata": {},
   "outputs": [],
   "source": [
    "# Queremos que sume todos los números hasta un último número dado\n",
    "\n",
    "def suma(limite):\n",
    "    total = 0\n",
    "    for i in range(limite):\n",
    "        total += i\n",
    "    return total"
   ]
  },
  {
   "cell_type": "code",
   "execution_count": 31,
   "metadata": {},
   "outputs": [
    {
     "data": {
      "text/plain": [
       "5050"
      ]
     },
     "execution_count": 31,
     "metadata": {},
     "output_type": "execute_result"
    }
   ],
   "source": [
    "suma(101)"
   ]
  },
  {
   "cell_type": "markdown",
   "metadata": {},
   "source": [
    "**Funciones lambda**\n",
    "\n",
    "Las funciones lambda o anónimas son un tipo de funciones en python que típicamente se definene en una línea y cuyo código a ejecutar suele ser pequeño. \n",
    "\n",
    "Las funciones lambda se pueden acompañar con funciones de orden superior. Una **función de orden superior** es aquella que cumple al menos uno de los siguientes criterios:"
   ]
  },
  {
   "cell_type": "code",
   "execution_count": null,
   "metadata": {},
   "outputs": [
    {
     "data": {
      "text/plain": [
       "[0, 2, 4, 6, 8]"
      ]
     },
     "metadata": {},
     "output_type": "display_data"
    }
   ],
   "source": [
    "# map(): Esta función aplica una función a cada elemento de un iterable (como una lista) y retorna un iterable con los resultados. \n",
    "#Este resultado no muestra los elementos individuales, sino simplemente la representación del objeto map. Para ver los resultados reales, necesitas convertir el objeto map en una lista\n",
    "\n",
    "numeros = list(range(5))\n",
    "list(map(lambda x: x*2,numeros))"
   ]
  },
  {
   "cell_type": "code",
   "execution_count": null,
   "metadata": {},
   "outputs": [
    {
     "data": {
      "text/plain": [
       "[0, 2, 4]"
      ]
     },
     "metadata": {},
     "output_type": "display_data"
    }
   ],
   "source": [
    "# filter(): Esta función filtra elementos de un iterable basado en si la función devuelve True o False. La sintaxis básica es similar a map()\n",
    "\n",
    "list(filter(lambda x: x%2 == 0,numeros))"
   ]
  },
  {
   "cell_type": "code",
   "execution_count": null,
   "metadata": {},
   "outputs": [
    {
     "name": "stdout",
     "output_type": "stream",
     "text": [
      "10\n"
     ]
    }
   ],
   "source": [
    "# reduce(): Esta función aplica una función de manera acumulativa a los elementos de un iterable, de izquierda a derecha, reduciéndolos a un solo valor.\n",
    "\n",
    "from functools import reduce\n",
    "\n",
    "#Sumar todos los elementos de una lista\n",
    "print(reduce(lambda x,y: x+y, numeros))"
   ]
  }
 ],
 "metadata": {
  "kernelspec": {
   "display_name": "Python 3",
   "language": "python",
   "name": "python3"
  },
  "language_info": {
   "codemirror_mode": {
    "name": "ipython",
    "version": 3
   },
   "file_extension": ".py",
   "mimetype": "text/x-python",
   "name": "python",
   "nbconvert_exporter": "python",
   "pygments_lexer": "ipython3",
   "version": "3.12.3"
  }
 },
 "nbformat": 4,
 "nbformat_minor": 2
}
